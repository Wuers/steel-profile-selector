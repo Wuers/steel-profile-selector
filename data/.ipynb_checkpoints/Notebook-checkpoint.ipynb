{
 "cells": [
  {
   "cell_type": "markdown",
   "id": "882d7156-8406-467f-a487-5fab4b081f25",
   "metadata": {},
   "source": [
    "#Notebook1\n",
    "notebook to test pandas data manipulation"
   ]
  },
  {
   "cell_type": "code",
   "execution_count": 3,
   "id": "b3299c81-0d06-47fc-b922-8ddca13ae126",
   "metadata": {},
   "outputs": [
    {
     "name": "stdout",
     "output_type": "stream",
     "text": [
      "hello world2\n"
     ]
    }
   ],
   "source": [
    "print (\"hello world2\")"
   ]
  },
  {
   "cell_type": "code",
   "execution_count": 12,
   "id": "529bbb1d-e37d-4023-976d-4ca0c7597764",
   "metadata": {},
   "outputs": [],
   "source": [
    "import pandas as pd"
   ]
  },
  {
   "cell_type": "code",
   "execution_count": 13,
   "id": "3ed64c10-c6b2-4e76-a715-1500a3f62ffb",
   "metadata": {},
   "outputs": [
    {
     "data": {
      "text/plain": [
       "2"
      ]
     },
     "execution_count": 13,
     "metadata": {},
     "output_type": "execute_result"
    }
   ],
   "source": [
    "1 + 1"
   ]
  }
 ],
 "metadata": {
  "kernelspec": {
   "display_name": "Python 3 (ipykernel)",
   "language": "python",
   "name": "python3"
  },
  "language_info": {
   "codemirror_mode": {
    "name": "ipython",
    "version": 3
   },
   "file_extension": ".py",
   "mimetype": "text/x-python",
   "name": "python",
   "nbconvert_exporter": "python",
   "pygments_lexer": "ipython3",
   "version": "3.12.4"
  }
 },
 "nbformat": 4,
 "nbformat_minor": 5
}
