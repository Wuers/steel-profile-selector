{
 "cells": [
  {
   "cell_type": "markdown",
   "id": "882d7156-8406-467f-a487-5fab4b081f25",
   "metadata": {},
   "source": [
    "#Notebook1\n",
    "notebook to test pandas data manipulation"
   ]
  },
  {
   "cell_type": "code",
   "execution_count": 145,
   "id": "529bbb1d-e37d-4023-976d-4ca0c7597764",
   "metadata": {},
   "outputs": [
    {
     "name": "stdout",
     "output_type": "stream",
     "text": [
      "column Drawing is not custom list and will be deleted \n",
      "\n",
      "column Perimeter is not custom list and will be deleted \n",
      "\n",
      "column Shear area z-z is not custom list and will be deleted \n",
      "\n",
      "column Shear area y-y is not custom list and will be deleted \n",
      "\n",
      "column Radius of gyration is not custom list and will be deleted \n",
      "\n",
      "column Plastic section modulus is not custom list and will be deleted \n",
      "\n",
      "column Second moment of area.1 is not custom list and will be deleted \n",
      "\n",
      "column Radius of gyration.1 is not custom list and will be deleted \n",
      "\n",
      "column Elastic section modulus.1 is not custom list and will be deleted \n",
      "\n",
      "column Plastic section modulus.1 is not custom list and will be deleted \n",
      "\n",
      "column Torsion constant is not custom list and will be deleted \n",
      "\n",
      "column Torsion modulus is not custom list and will be deleted \n",
      "\n",
      "column Warping constant is not custom list and will be deleted \n",
      "\n",
      "column Warping modulus is not custom list and will be deleted \n",
      "\n",
      "column Design plastic axial force resistance is not custom list and will be deleted \n",
      "\n",
      "column Design plastic shear force resistance z-z is not custom list and will be deleted \n",
      "\n",
      "column Design plastic shear force resistance y-y is not custom list and will be deleted \n",
      "\n",
      "column Design elastic bending moment resistance is not custom list and will be deleted \n",
      "\n",
      "column Design plastic bending moment resistance is not custom list and will be deleted \n",
      "\n",
      "column Design elastic bending moment resistance.1 is not custom list and will be deleted \n",
      "\n",
      "column Design plastic bending moment resistance.1 is not custom list and will be deleted \n",
      "\n",
      "column Buckling about major axis y-y is not custom list and will be deleted \n",
      "\n",
      "column Buckling about minor axis z-z is not custom list and will be deleted \n",
      "\n",
      "column Web in pure bending about major axis y-y is not custom list and will be deleted \n",
      "\n",
      "column Web in pure uniform compression is not custom list and will be deleted \n",
      "\n",
      "column Flanges in uniform compression due to axial force or bending moment is not custom list and will be deleted \n",
      "\n"
     ]
    }
   ],
   "source": [
    "import pandas as pd\n",
    "mydf = pd.read_csv(r'F:\\0_Wuer\\5 Projekty\\Python\\P4_SteelProfileSelector\\data\\source_data.csv')\n",
    "#df.set_index('Profile')\n",
    "def columns_manager(df):\n",
    "    needed_columns = ['Profile','Depth' ,'Width' ,'Web thickness' ,'Flange thickness' ,'Root radius', 'Weight' ,'Area' ,'Second moment of area' ,'Elastic section modulus']\n",
    "    for column in df.columns:\n",
    "        if column not in needed_columns:\n",
    "            print(f'column {column} is not custom list and will be deleted \\n')\n",
    "            df.drop(columns=column, inplace=True)\n",
    "\n",
    "def add_column(df,new_col, new_data):\n",
    "    df[new_col] = new_data\n",
    "    print(f'columns {new_col} with {new_data} added!')\n",
    "    \n",
    "def show_columns(df):\n",
    "    for column in df.columns:\n",
    "        #obj=df[column]\n",
    "        print(f'Column in df: {column}')\n",
    "\n",
    "#saving file to csv\n",
    "def save_file(df):\n",
    "    df.to_csv(path_or_buf=\"./steel_profiles.csv\",index= False);\n",
    "\n",
    "columns_manager(mydf)\n",
    "\n"
   ]
  },
  {
   "cell_type": "code",
   "execution_count": 147,
   "id": "2a57eb35",
   "metadata": {},
   "outputs": [
    {
     "name": "stdout",
     "output_type": "stream",
     "text": [
      "Column in df: Profile\n",
      "Column in df: Depth\n",
      "Column in df: Width\n",
      "Column in df: Web thickness\n",
      "Column in df: Flange thickness\n",
      "Column in df: Root radius\n",
      "Column in df: Weight\n",
      "Column in df: Area\n",
      "Column in df: Second moment of area\n",
      "Column in df: Elastic section modulus\n",
      "Column in df: Steel grade\n"
     ]
    }
   ],
   "source": [
    "show_columns(mydf)"
   ]
  },
  {
   "cell_type": "code",
   "execution_count": 146,
   "id": "8886621d",
   "metadata": {},
   "outputs": [
    {
     "name": "stdout",
     "output_type": "stream",
     "text": [
      "columns Steel grade with 235 added!\n"
     ]
    }
   ],
   "source": [
    "add_column(mydf,'Steel grade', 235)"
   ]
  },
  {
   "cell_type": "code",
   "execution_count": 148,
   "id": "3b318602",
   "metadata": {},
   "outputs": [],
   "source": [
    "save_file(mydf)"
   ]
  }
 ],
 "metadata": {
  "kernelspec": {
   "display_name": "Python 3 (ipykernel)",
   "language": "python",
   "name": "python3"
  },
  "language_info": {
   "codemirror_mode": {
    "name": "ipython",
    "version": 3
   },
   "file_extension": ".py",
   "mimetype": "text/x-python",
   "name": "python",
   "nbconvert_exporter": "python",
   "pygments_lexer": "ipython3",
   "version": "3.12.4"
  }
 },
 "nbformat": 4,
 "nbformat_minor": 5
}
